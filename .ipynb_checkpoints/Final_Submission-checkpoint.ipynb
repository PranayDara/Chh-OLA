{
 "cells": [
  {
   "cell_type": "markdown",
   "metadata": {},
   "source": [
    "## Importing"
   ]
  },
  {
   "cell_type": "code",
   "execution_count": 1,
   "metadata": {},
   "outputs": [],
   "source": [
    "import pandas as pd\n",
    "import numpy as np\n",
    "import matplotlib.pyplot as plt\n",
    "import seaborn as sns\n",
    "from sklearn.metrics import mean_squared_error"
   ]
  },
  {
   "cell_type": "markdown",
   "metadata": {},
   "source": [
    "## Ignore Warnings"
   ]
  },
  {
   "cell_type": "code",
   "execution_count": 3,
   "metadata": {},
   "outputs": [],
   "source": [
    "import warnings\n",
    "warnings.filterwarnings('ignore')"
   ]
  },
  {
   "cell_type": "markdown",
   "metadata": {},
   "source": [
    "## Reading the files"
   ]
  },
  {
   "cell_type": "code",
   "execution_count": 4,
   "metadata": {},
   "outputs": [],
   "source": [
    "# read data in pandas dataframe\n",
    "df = pd.read_csv('train.csv',low_memory=False)\n",
    "pf = pd.read_csv('test.csv',low_memory=False)"
   ]
  },
  {
   "cell_type": "markdown",
   "metadata": {},
   "source": [
    "## Data Exploration"
   ]
  },
  {
   "cell_type": "code",
   "execution_count": 5,
   "metadata": {
    "scrolled": true
   },
   "outputs": [
    {
     "data": {
      "text/html": [
       "<div>\n",
       "<style scoped>\n",
       "    .dataframe tbody tr th:only-of-type {\n",
       "        vertical-align: middle;\n",
       "    }\n",
       "\n",
       "    .dataframe tbody tr th {\n",
       "        vertical-align: top;\n",
       "    }\n",
       "\n",
       "    .dataframe thead th {\n",
       "        text-align: right;\n",
       "    }\n",
       "</style>\n",
       "<table border=\"1\" class=\"dataframe\">\n",
       "  <thead>\n",
       "    <tr style=\"text-align: right;\">\n",
       "      <th></th>\n",
       "      <th>ID</th>\n",
       "      <th>vendor_id</th>\n",
       "      <th>pickup_loc</th>\n",
       "      <th>drop_loc</th>\n",
       "      <th>driver_tip</th>\n",
       "      <th>mta_tax</th>\n",
       "      <th>distance</th>\n",
       "      <th>pickup_time</th>\n",
       "      <th>drop_time</th>\n",
       "      <th>num_passengers</th>\n",
       "      <th>toll_amount</th>\n",
       "      <th>payment_method</th>\n",
       "      <th>rate_code</th>\n",
       "      <th>stored_flag</th>\n",
       "      <th>extra_charges</th>\n",
       "      <th>improvement_charge</th>\n",
       "      <th>total_amount</th>\n",
       "    </tr>\n",
       "  </thead>\n",
       "  <tbody>\n",
       "    <tr>\n",
       "      <th>0</th>\n",
       "      <td>0</td>\n",
       "      <td>1</td>\n",
       "      <td>170.0</td>\n",
       "      <td>233.0</td>\n",
       "      <td>1.83</td>\n",
       "      <td>0.5</td>\n",
       "      <td>0.70</td>\n",
       "      <td>04/04/2017 05:59:43 PM</td>\n",
       "      <td>04/04/2017 06:05:04 PM</td>\n",
       "      <td>1.0</td>\n",
       "      <td>0.0</td>\n",
       "      <td>1.0</td>\n",
       "      <td>1.0</td>\n",
       "      <td>N</td>\n",
       "      <td>1.0</td>\n",
       "      <td>0.3</td>\n",
       "      <td>9.13</td>\n",
       "    </tr>\n",
       "    <tr>\n",
       "      <th>1</th>\n",
       "      <td>1</td>\n",
       "      <td>2</td>\n",
       "      <td>151.0</td>\n",
       "      <td>243.0</td>\n",
       "      <td>3.56</td>\n",
       "      <td>0.5</td>\n",
       "      <td>4.64</td>\n",
       "      <td>04/03/2017 07:03:34 PM</td>\n",
       "      <td>04/03/2017 07:20:04 PM</td>\n",
       "      <td>1.0</td>\n",
       "      <td>0.0</td>\n",
       "      <td>1.0</td>\n",
       "      <td>1.0</td>\n",
       "      <td>N</td>\n",
       "      <td>1.0</td>\n",
       "      <td>0.3</td>\n",
       "      <td>21.36</td>\n",
       "    </tr>\n",
       "    <tr>\n",
       "      <th>2</th>\n",
       "      <td>2</td>\n",
       "      <td>2</td>\n",
       "      <td>68.0</td>\n",
       "      <td>90.0</td>\n",
       "      <td>1.50</td>\n",
       "      <td>0.5</td>\n",
       "      <td>1.29</td>\n",
       "      <td>04/03/2017 03:06:13 PM</td>\n",
       "      <td>04/03/2017 03:12:30 PM</td>\n",
       "      <td>2.0</td>\n",
       "      <td>0.0</td>\n",
       "      <td>1.0</td>\n",
       "      <td>1.0</td>\n",
       "      <td>N</td>\n",
       "      <td>0.0</td>\n",
       "      <td>0.3</td>\n",
       "      <td>8.80</td>\n",
       "    </tr>\n",
       "    <tr>\n",
       "      <th>3</th>\n",
       "      <td>3</td>\n",
       "      <td>2</td>\n",
       "      <td>142.0</td>\n",
       "      <td>234.0</td>\n",
       "      <td>1.50</td>\n",
       "      <td>0.5</td>\n",
       "      <td>2.74</td>\n",
       "      <td>04/04/2017 08:10:52 AM</td>\n",
       "      <td>04/04/2017 08:27:00 AM</td>\n",
       "      <td>1.0</td>\n",
       "      <td>0.0</td>\n",
       "      <td>1.0</td>\n",
       "      <td>1.0</td>\n",
       "      <td>N</td>\n",
       "      <td>0.0</td>\n",
       "      <td>0.3</td>\n",
       "      <td>14.80</td>\n",
       "    </tr>\n",
       "    <tr>\n",
       "      <th>4</th>\n",
       "      <td>4</td>\n",
       "      <td>2</td>\n",
       "      <td>238.0</td>\n",
       "      <td>238.0</td>\n",
       "      <td>0.00</td>\n",
       "      <td>0.5</td>\n",
       "      <td>0.45</td>\n",
       "      <td>04/05/2017 02:02:59 PM</td>\n",
       "      <td>04/05/2017 02:05:41 PM</td>\n",
       "      <td>6.0</td>\n",
       "      <td>0.0</td>\n",
       "      <td>2.0</td>\n",
       "      <td>1.0</td>\n",
       "      <td>N</td>\n",
       "      <td>0.0</td>\n",
       "      <td>0.3</td>\n",
       "      <td>4.80</td>\n",
       "    </tr>\n",
       "  </tbody>\n",
       "</table>\n",
       "</div>"
      ],
      "text/plain": [
       "   ID vendor_id  pickup_loc  drop_loc  driver_tip mta_tax  distance  \\\n",
       "0   0         1       170.0     233.0        1.83     0.5      0.70   \n",
       "1   1         2       151.0     243.0        3.56     0.5      4.64   \n",
       "2   2         2        68.0      90.0        1.50     0.5      1.29   \n",
       "3   3         2       142.0     234.0        1.50     0.5      2.74   \n",
       "4   4         2       238.0     238.0        0.00     0.5      0.45   \n",
       "\n",
       "              pickup_time               drop_time  num_passengers  \\\n",
       "0  04/04/2017 05:59:43 PM  04/04/2017 06:05:04 PM             1.0   \n",
       "1  04/03/2017 07:03:34 PM  04/03/2017 07:20:04 PM             1.0   \n",
       "2  04/03/2017 03:06:13 PM  04/03/2017 03:12:30 PM             2.0   \n",
       "3  04/04/2017 08:10:52 AM  04/04/2017 08:27:00 AM             1.0   \n",
       "4  04/05/2017 02:02:59 PM  04/05/2017 02:05:41 PM             6.0   \n",
       "\n",
       "   toll_amount  payment_method  rate_code stored_flag  extra_charges  \\\n",
       "0          0.0             1.0        1.0           N            1.0   \n",
       "1          0.0             1.0        1.0           N            1.0   \n",
       "2          0.0             1.0        1.0           N            0.0   \n",
       "3          0.0             1.0        1.0           N            0.0   \n",
       "4          0.0             2.0        1.0           N            0.0   \n",
       "\n",
       "   improvement_charge  total_amount  \n",
       "0                 0.3          9.13  \n",
       "1                 0.3         21.36  \n",
       "2                 0.3          8.80  \n",
       "3                 0.3         14.80  \n",
       "4                 0.3          4.80  "
      ]
     },
     "execution_count": 5,
     "metadata": {},
     "output_type": "execute_result"
    }
   ],
   "source": [
    "df.head()"
   ]
  },
  {
   "cell_type": "markdown",
   "metadata": {},
   "source": [
    "#### Info will help us to determine the data type of different columns, total number of features, total number of rows in our dataset\n"
   ]
  },
  {
   "cell_type": "code",
   "execution_count": 70,
   "metadata": {},
   "outputs": [
    {
     "name": "stdout",
     "output_type": "stream",
     "text": [
      "<class 'pandas.core.frame.DataFrame'>\n",
      "RangeIndex: 1048575 entries, 0 to 1048574\n",
      "Data columns (total 17 columns):\n",
      "ID                    1048575 non-null int64\n",
      "vendor_id             1048575 non-null object\n",
      "pickup_loc            1048574 non-null float64\n",
      "drop_loc              1048574 non-null float64\n",
      "driver_tip            1048573 non-null float64\n",
      "mta_tax               1048574 non-null object\n",
      "distance              1048574 non-null float64\n",
      "pickup_time           1048574 non-null object\n",
      "drop_time             1048574 non-null object\n",
      "num_passengers        1048574 non-null float64\n",
      "toll_amount           1048573 non-null float64\n",
      "payment_method        1048574 non-null float64\n",
      "rate_code             1048574 non-null float64\n",
      "stored_flag           1048574 non-null object\n",
      "extra_charges         1048574 non-null float64\n",
      "improvement_charge    1048573 non-null float64\n",
      "total_amount          1048573 non-null float64\n",
      "dtypes: float64(11), int64(1), object(5)\n",
      "memory usage: 136.0+ MB\n"
     ]
    }
   ],
   "source": [
    "df.info()"
   ]
  },
  {
   "cell_type": "markdown",
   "metadata": {},
   "source": [
    "#### describe will help us to determine about the scaling and range of our dataset"
   ]
  },
  {
   "cell_type": "code",
   "execution_count": 71,
   "metadata": {},
   "outputs": [
    {
     "data": {
      "text/html": [
       "<div>\n",
       "<style scoped>\n",
       "    .dataframe tbody tr th:only-of-type {\n",
       "        vertical-align: middle;\n",
       "    }\n",
       "\n",
       "    .dataframe tbody tr th {\n",
       "        vertical-align: top;\n",
       "    }\n",
       "\n",
       "    .dataframe thead th {\n",
       "        text-align: right;\n",
       "    }\n",
       "</style>\n",
       "<table border=\"1\" class=\"dataframe\">\n",
       "  <thead>\n",
       "    <tr style=\"text-align: right;\">\n",
       "      <th></th>\n",
       "      <th>ID</th>\n",
       "      <th>pickup_loc</th>\n",
       "      <th>drop_loc</th>\n",
       "      <th>driver_tip</th>\n",
       "      <th>distance</th>\n",
       "      <th>num_passengers</th>\n",
       "      <th>toll_amount</th>\n",
       "      <th>payment_method</th>\n",
       "      <th>rate_code</th>\n",
       "      <th>extra_charges</th>\n",
       "      <th>improvement_charge</th>\n",
       "      <th>total_amount</th>\n",
       "    </tr>\n",
       "  </thead>\n",
       "  <tbody>\n",
       "    <tr>\n",
       "      <td>count</td>\n",
       "      <td>1.048575e+06</td>\n",
       "      <td>1.048574e+06</td>\n",
       "      <td>1.048574e+06</td>\n",
       "      <td>1.048573e+06</td>\n",
       "      <td>1.048574e+06</td>\n",
       "      <td>1.048574e+06</td>\n",
       "      <td>1.048573e+06</td>\n",
       "      <td>1.048574e+06</td>\n",
       "      <td>1.048574e+06</td>\n",
       "      <td>1.048574e+06</td>\n",
       "      <td>1.048573e+06</td>\n",
       "      <td>1.048573e+06</td>\n",
       "    </tr>\n",
       "    <tr>\n",
       "      <td>mean</td>\n",
       "      <td>5.242870e+05</td>\n",
       "      <td>1.648085e+02</td>\n",
       "      <td>1.626675e+02</td>\n",
       "      <td>1.895219e+00</td>\n",
       "      <td>2.859832e+00</td>\n",
       "      <td>1.590696e+00</td>\n",
       "      <td>3.458530e-01</td>\n",
       "      <td>1.317943e+00</td>\n",
       "      <td>1.043368e+00</td>\n",
       "      <td>3.415165e-01</td>\n",
       "      <td>2.999187e-01</td>\n",
       "      <td>1.622721e+01</td>\n",
       "    </tr>\n",
       "    <tr>\n",
       "      <td>std</td>\n",
       "      <td>3.026977e+05</td>\n",
       "      <td>6.579282e+01</td>\n",
       "      <td>6.953073e+01</td>\n",
       "      <td>2.653937e+00</td>\n",
       "      <td>3.709541e+00</td>\n",
       "      <td>1.253700e+00</td>\n",
       "      <td>2.138421e+00</td>\n",
       "      <td>4.853266e-01</td>\n",
       "      <td>5.621114e-01</td>\n",
       "      <td>4.837718e-01</td>\n",
       "      <td>4.936538e-03</td>\n",
       "      <td>1.508592e+01</td>\n",
       "    </tr>\n",
       "    <tr>\n",
       "      <td>min</td>\n",
       "      <td>0.000000e+00</td>\n",
       "      <td>1.000000e+00</td>\n",
       "      <td>1.000000e+00</td>\n",
       "      <td>0.000000e+00</td>\n",
       "      <td>0.000000e+00</td>\n",
       "      <td>0.000000e+00</td>\n",
       "      <td>0.000000e+00</td>\n",
       "      <td>1.000000e+00</td>\n",
       "      <td>1.000000e+00</td>\n",
       "      <td>0.000000e+00</td>\n",
       "      <td>0.000000e+00</td>\n",
       "      <td>0.000000e+00</td>\n",
       "    </tr>\n",
       "    <tr>\n",
       "      <td>25%</td>\n",
       "      <td>2.621435e+05</td>\n",
       "      <td>1.250000e+02</td>\n",
       "      <td>1.130000e+02</td>\n",
       "      <td>0.000000e+00</td>\n",
       "      <td>9.300000e-01</td>\n",
       "      <td>1.000000e+00</td>\n",
       "      <td>0.000000e+00</td>\n",
       "      <td>1.000000e+00</td>\n",
       "      <td>1.000000e+00</td>\n",
       "      <td>0.000000e+00</td>\n",
       "      <td>3.000000e-01</td>\n",
       "      <td>8.500000e+00</td>\n",
       "    </tr>\n",
       "    <tr>\n",
       "      <td>50%</td>\n",
       "      <td>5.242870e+05</td>\n",
       "      <td>1.620000e+02</td>\n",
       "      <td>1.620000e+02</td>\n",
       "      <td>1.450000e+00</td>\n",
       "      <td>1.600000e+00</td>\n",
       "      <td>1.000000e+00</td>\n",
       "      <td>0.000000e+00</td>\n",
       "      <td>1.000000e+00</td>\n",
       "      <td>1.000000e+00</td>\n",
       "      <td>0.000000e+00</td>\n",
       "      <td>3.000000e-01</td>\n",
       "      <td>1.176000e+01</td>\n",
       "    </tr>\n",
       "    <tr>\n",
       "      <td>75%</td>\n",
       "      <td>7.864305e+05</td>\n",
       "      <td>2.330000e+02</td>\n",
       "      <td>2.330000e+02</td>\n",
       "      <td>2.450000e+00</td>\n",
       "      <td>2.900000e+00</td>\n",
       "      <td>2.000000e+00</td>\n",
       "      <td>0.000000e+00</td>\n",
       "      <td>2.000000e+00</td>\n",
       "      <td>1.000000e+00</td>\n",
       "      <td>5.000000e-01</td>\n",
       "      <td>3.000000e-01</td>\n",
       "      <td>1.775000e+01</td>\n",
       "    </tr>\n",
       "    <tr>\n",
       "      <td>max</td>\n",
       "      <td>1.048574e+06</td>\n",
       "      <td>2.650000e+02</td>\n",
       "      <td>2.650000e+02</td>\n",
       "      <td>4.000000e+02</td>\n",
       "      <td>1.138000e+02</td>\n",
       "      <td>9.000000e+00</td>\n",
       "      <td>9.057600e+02</td>\n",
       "      <td>4.000000e+00</td>\n",
       "      <td>9.900000e+01</td>\n",
       "      <td>6.500000e+00</td>\n",
       "      <td>3.000000e-01</td>\n",
       "      <td>2.759370e+03</td>\n",
       "    </tr>\n",
       "  </tbody>\n",
       "</table>\n",
       "</div>"
      ],
      "text/plain": [
       "                 ID    pickup_loc      drop_loc    driver_tip      distance  \\\n",
       "count  1.048575e+06  1.048574e+06  1.048574e+06  1.048573e+06  1.048574e+06   \n",
       "mean   5.242870e+05  1.648085e+02  1.626675e+02  1.895219e+00  2.859832e+00   \n",
       "std    3.026977e+05  6.579282e+01  6.953073e+01  2.653937e+00  3.709541e+00   \n",
       "min    0.000000e+00  1.000000e+00  1.000000e+00  0.000000e+00  0.000000e+00   \n",
       "25%    2.621435e+05  1.250000e+02  1.130000e+02  0.000000e+00  9.300000e-01   \n",
       "50%    5.242870e+05  1.620000e+02  1.620000e+02  1.450000e+00  1.600000e+00   \n",
       "75%    7.864305e+05  2.330000e+02  2.330000e+02  2.450000e+00  2.900000e+00   \n",
       "max    1.048574e+06  2.650000e+02  2.650000e+02  4.000000e+02  1.138000e+02   \n",
       "\n",
       "       num_passengers   toll_amount  payment_method     rate_code  \\\n",
       "count    1.048574e+06  1.048573e+06    1.048574e+06  1.048574e+06   \n",
       "mean     1.590696e+00  3.458530e-01    1.317943e+00  1.043368e+00   \n",
       "std      1.253700e+00  2.138421e+00    4.853266e-01  5.621114e-01   \n",
       "min      0.000000e+00  0.000000e+00    1.000000e+00  1.000000e+00   \n",
       "25%      1.000000e+00  0.000000e+00    1.000000e+00  1.000000e+00   \n",
       "50%      1.000000e+00  0.000000e+00    1.000000e+00  1.000000e+00   \n",
       "75%      2.000000e+00  0.000000e+00    2.000000e+00  1.000000e+00   \n",
       "max      9.000000e+00  9.057600e+02    4.000000e+00  9.900000e+01   \n",
       "\n",
       "       extra_charges  improvement_charge  total_amount  \n",
       "count   1.048574e+06        1.048573e+06  1.048573e+06  \n",
       "mean    3.415165e-01        2.999187e-01  1.622721e+01  \n",
       "std     4.837718e-01        4.936538e-03  1.508592e+01  \n",
       "min     0.000000e+00        0.000000e+00  0.000000e+00  \n",
       "25%     0.000000e+00        3.000000e-01  8.500000e+00  \n",
       "50%     0.000000e+00        3.000000e-01  1.176000e+01  \n",
       "75%     5.000000e-01        3.000000e-01  1.775000e+01  \n",
       "max     6.500000e+00        3.000000e-01  2.759370e+03  "
      ]
     },
     "execution_count": 71,
     "metadata": {},
     "output_type": "execute_result"
    }
   ],
   "source": [
    "df.describe()"
   ]
  },
  {
   "cell_type": "code",
   "execution_count": 72,
   "metadata": {},
   "outputs": [
    {
     "data": {
      "text/plain": [
       "ID                    0\n",
       "vendor_id             0\n",
       "pickup_loc            1\n",
       "drop_loc              1\n",
       "driver_tip            2\n",
       "mta_tax               1\n",
       "distance              1\n",
       "pickup_time           1\n",
       "drop_time             1\n",
       "num_passengers        1\n",
       "toll_amount           2\n",
       "payment_method        1\n",
       "rate_code             1\n",
       "stored_flag           1\n",
       "extra_charges         1\n",
       "improvement_charge    2\n",
       "total_amount          2\n",
       "dtype: int64"
      ]
     },
     "execution_count": 72,
     "metadata": {},
     "output_type": "execute_result"
    }
   ],
   "source": [
    "df.isna().sum()"
   ]
  },
  {
   "cell_type": "markdown",
   "metadata": {},
   "source": [
    "## Data Cleaning"
   ]
  },
  {
   "cell_type": "code",
   "execution_count": 73,
   "metadata": {},
   "outputs": [
    {
     "name": "stdout",
     "output_type": "stream",
     "text": [
      "ID                                                      599121\n",
      "vendor_id             +ACI-  +ACIAIg-status+ACIAIg- : 500+ACI-\n",
      "pickup_loc                                                 NaN\n",
      "drop_loc                                                   NaN\n",
      "driver_tip                                                 NaN\n",
      "mta_tax                                                    NaN\n",
      "distance                                                   NaN\n",
      "pickup_time                                                NaN\n",
      "drop_time                                                  NaN\n",
      "num_passengers                                             NaN\n",
      "toll_amount                                                NaN\n",
      "payment_method                                             NaN\n",
      "rate_code                                                  NaN\n",
      "stored_flag                                                NaN\n",
      "extra_charges                                              NaN\n",
      "improvement_charge                                         NaN\n",
      "total_amount                                               NaN\n",
      "Name: 599121, dtype: object\n"
     ]
    }
   ],
   "source": [
    "print(df.iloc[599121])"
   ]
  },
  {
   "cell_type": "code",
   "execution_count": 74,
   "metadata": {},
   "outputs": [
    {
     "name": "stdout",
     "output_type": "stream",
     "text": [
      "ID                                     79863\n",
      "vendor_id                                  1\n",
      "pickup_loc                               170\n",
      "drop_loc                                 107\n",
      "driver_tip                               NaN\n",
      "mta_tax                               0+AHs-\n",
      "distance                                 0.9\n",
      "pickup_time           04/07/2017 03:25:09 PM\n",
      "drop_time             04/07/2017 03:31:47 PM\n",
      "num_passengers                             1\n",
      "toll_amount                              NaN\n",
      "payment_method                             2\n",
      "rate_code                                  1\n",
      "stored_flag                                Y\n",
      "extra_charges                              0\n",
      "improvement_charge                       NaN\n",
      "total_amount                             NaN\n",
      "Name: 79863, dtype: object\n"
     ]
    }
   ],
   "source": [
    "print(df.iloc[79863])"
   ]
  },
  {
   "cell_type": "markdown",
   "metadata": {},
   "source": [
    "We can ignore both the above samples so drop it"
   ]
  },
  {
   "cell_type": "code",
   "execution_count": 75,
   "metadata": {},
   "outputs": [],
   "source": [
    "df=df[df.ID!=599121]\n",
    "df=df[df.ID!=79863]"
   ]
  },
  {
   "cell_type": "markdown",
   "metadata": {},
   "source": [
    "## Dtype conversion"
   ]
  },
  {
   "cell_type": "code",
   "execution_count": 76,
   "metadata": {},
   "outputs": [],
   "source": [
    "df['pickup_time'] =  pd.to_datetime(df['pickup_time'], format='%m/%d/%Y %I:%M:%S %p')\n",
    "df['drop_time'] =  pd.to_datetime(df['drop_time'], format='%m/%d/%Y %I:%M:%S %p')\n",
    "\n",
    "pf['pickup_time'] =  pd.to_datetime(pf['pickup_time'], format='%m/%d/%Y %I:%M:%S %p')\n",
    "pf['drop_time'] =  pd.to_datetime(pf['drop_time'], format='%m/%d/%Y %I:%M:%S %p')"
   ]
  },
  {
   "cell_type": "code",
   "execution_count": 77,
   "metadata": {},
   "outputs": [
    {
     "data": {
      "text/html": [
       "<div>\n",
       "<style scoped>\n",
       "    .dataframe tbody tr th:only-of-type {\n",
       "        vertical-align: middle;\n",
       "    }\n",
       "\n",
       "    .dataframe tbody tr th {\n",
       "        vertical-align: top;\n",
       "    }\n",
       "\n",
       "    .dataframe thead th {\n",
       "        text-align: right;\n",
       "    }\n",
       "</style>\n",
       "<table border=\"1\" class=\"dataframe\">\n",
       "  <thead>\n",
       "    <tr style=\"text-align: right;\">\n",
       "      <th></th>\n",
       "      <th>ID</th>\n",
       "      <th>vendor_id</th>\n",
       "      <th>pickup_loc</th>\n",
       "      <th>drop_loc</th>\n",
       "      <th>driver_tip</th>\n",
       "      <th>mta_tax</th>\n",
       "      <th>distance</th>\n",
       "      <th>pickup_time</th>\n",
       "      <th>drop_time</th>\n",
       "      <th>num_passengers</th>\n",
       "      <th>toll_amount</th>\n",
       "      <th>payment_method</th>\n",
       "      <th>rate_code</th>\n",
       "      <th>stored_flag</th>\n",
       "      <th>extra_charges</th>\n",
       "      <th>improvement_charge</th>\n",
       "      <th>total_amount</th>\n",
       "    </tr>\n",
       "  </thead>\n",
       "  <tbody>\n",
       "    <tr>\n",
       "      <td>0</td>\n",
       "      <td>0</td>\n",
       "      <td>1</td>\n",
       "      <td>170.0</td>\n",
       "      <td>233.0</td>\n",
       "      <td>1.83</td>\n",
       "      <td>0.5</td>\n",
       "      <td>0.70</td>\n",
       "      <td>2017-04-04 17:59:43</td>\n",
       "      <td>2017-04-04 18:05:04</td>\n",
       "      <td>1.0</td>\n",
       "      <td>0.0</td>\n",
       "      <td>1.0</td>\n",
       "      <td>1.0</td>\n",
       "      <td>N</td>\n",
       "      <td>1.0</td>\n",
       "      <td>0.3</td>\n",
       "      <td>9.13</td>\n",
       "    </tr>\n",
       "    <tr>\n",
       "      <td>1</td>\n",
       "      <td>1</td>\n",
       "      <td>2</td>\n",
       "      <td>151.0</td>\n",
       "      <td>243.0</td>\n",
       "      <td>3.56</td>\n",
       "      <td>0.5</td>\n",
       "      <td>4.64</td>\n",
       "      <td>2017-04-03 19:03:34</td>\n",
       "      <td>2017-04-03 19:20:04</td>\n",
       "      <td>1.0</td>\n",
       "      <td>0.0</td>\n",
       "      <td>1.0</td>\n",
       "      <td>1.0</td>\n",
       "      <td>N</td>\n",
       "      <td>1.0</td>\n",
       "      <td>0.3</td>\n",
       "      <td>21.36</td>\n",
       "    </tr>\n",
       "    <tr>\n",
       "      <td>2</td>\n",
       "      <td>2</td>\n",
       "      <td>2</td>\n",
       "      <td>68.0</td>\n",
       "      <td>90.0</td>\n",
       "      <td>1.50</td>\n",
       "      <td>0.5</td>\n",
       "      <td>1.29</td>\n",
       "      <td>2017-04-03 15:06:13</td>\n",
       "      <td>2017-04-03 15:12:30</td>\n",
       "      <td>2.0</td>\n",
       "      <td>0.0</td>\n",
       "      <td>1.0</td>\n",
       "      <td>1.0</td>\n",
       "      <td>N</td>\n",
       "      <td>0.0</td>\n",
       "      <td>0.3</td>\n",
       "      <td>8.80</td>\n",
       "    </tr>\n",
       "    <tr>\n",
       "      <td>3</td>\n",
       "      <td>3</td>\n",
       "      <td>2</td>\n",
       "      <td>142.0</td>\n",
       "      <td>234.0</td>\n",
       "      <td>1.50</td>\n",
       "      <td>0.5</td>\n",
       "      <td>2.74</td>\n",
       "      <td>2017-04-04 08:10:52</td>\n",
       "      <td>2017-04-04 08:27:00</td>\n",
       "      <td>1.0</td>\n",
       "      <td>0.0</td>\n",
       "      <td>1.0</td>\n",
       "      <td>1.0</td>\n",
       "      <td>N</td>\n",
       "      <td>0.0</td>\n",
       "      <td>0.3</td>\n",
       "      <td>14.80</td>\n",
       "    </tr>\n",
       "    <tr>\n",
       "      <td>4</td>\n",
       "      <td>4</td>\n",
       "      <td>2</td>\n",
       "      <td>238.0</td>\n",
       "      <td>238.0</td>\n",
       "      <td>0.00</td>\n",
       "      <td>0.5</td>\n",
       "      <td>0.45</td>\n",
       "      <td>2017-04-05 14:02:59</td>\n",
       "      <td>2017-04-05 14:05:41</td>\n",
       "      <td>6.0</td>\n",
       "      <td>0.0</td>\n",
       "      <td>2.0</td>\n",
       "      <td>1.0</td>\n",
       "      <td>N</td>\n",
       "      <td>0.0</td>\n",
       "      <td>0.3</td>\n",
       "      <td>4.80</td>\n",
       "    </tr>\n",
       "  </tbody>\n",
       "</table>\n",
       "</div>"
      ],
      "text/plain": [
       "   ID vendor_id  pickup_loc  drop_loc  driver_tip mta_tax  distance  \\\n",
       "0   0         1       170.0     233.0        1.83     0.5      0.70   \n",
       "1   1         2       151.0     243.0        3.56     0.5      4.64   \n",
       "2   2         2        68.0      90.0        1.50     0.5      1.29   \n",
       "3   3         2       142.0     234.0        1.50     0.5      2.74   \n",
       "4   4         2       238.0     238.0        0.00     0.5      0.45   \n",
       "\n",
       "          pickup_time           drop_time  num_passengers  toll_amount  \\\n",
       "0 2017-04-04 17:59:43 2017-04-04 18:05:04             1.0          0.0   \n",
       "1 2017-04-03 19:03:34 2017-04-03 19:20:04             1.0          0.0   \n",
       "2 2017-04-03 15:06:13 2017-04-03 15:12:30             2.0          0.0   \n",
       "3 2017-04-04 08:10:52 2017-04-04 08:27:00             1.0          0.0   \n",
       "4 2017-04-05 14:02:59 2017-04-05 14:05:41             6.0          0.0   \n",
       "\n",
       "   payment_method  rate_code stored_flag  extra_charges  improvement_charge  \\\n",
       "0             1.0        1.0           N            1.0                 0.3   \n",
       "1             1.0        1.0           N            1.0                 0.3   \n",
       "2             1.0        1.0           N            0.0                 0.3   \n",
       "3             1.0        1.0           N            0.0                 0.3   \n",
       "4             2.0        1.0           N            0.0                 0.3   \n",
       "\n",
       "   total_amount  \n",
       "0          9.13  \n",
       "1         21.36  \n",
       "2          8.80  \n",
       "3         14.80  \n",
       "4          4.80  "
      ]
     },
     "execution_count": 77,
     "metadata": {},
     "output_type": "execute_result"
    }
   ],
   "source": [
    "df.head()"
   ]
  },
  {
   "cell_type": "markdown",
   "metadata": {},
   "source": [
    "### Extracting hour value and adding a column"
   ]
  },
  {
   "cell_type": "code",
   "execution_count": 78,
   "metadata": {},
   "outputs": [],
   "source": [
    "df['p_hour'] = df.pickup_time.apply(lambda t: pd.to_datetime(t).hour)\n",
    "\n",
    "pf['p_hour'] = pf.pickup_time.apply(lambda t: pd.to_datetime(t).hour)"
   ]
  },
  {
   "cell_type": "markdown",
   "metadata": {},
   "source": [
    "# Data Visualization"
   ]
  },
  {
   "cell_type": "code",
   "execution_count": 79,
   "metadata": {},
   "outputs": [
    {
     "data": {
      "image/png": "[encoded data removed]",
      "text/plain": [
       "<Figure size 1080x720 with 1 Axes>"
      ]
     },
     "metadata": {},
     "output_type": "display_data"
    }
   ],
   "source": [
    "af = df[df['distance']>0]\n",
    "cor = af['num_passengers']>0\n",
    "rel = af['total_amount']>0\n",
    "af[cor & rel]\n",
    "fig, ax = plt.subplots()\n",
    "fig.set_size_inches(15,10)\n",
    "ax=sns.regplot(x=\"distance\",y=\"total_amount\",fit_reg=False,ci=None,truncate=True,data=af)"
   ]
  },
  {
   "cell_type": "code",
   "execution_count": 80,
   "metadata": {},
   "outputs": [
    {
     "data": {
      "image/png": "[encoded data removed]",
      "text/plain": [
       "<Figure size 1008x216 with 1 Axes>"
      ]
     },
     "metadata": {},
     "output_type": "display_data"
    }
   ],
   "source": [
    "# plot histogram of fare\n",
    "df[df.total_amount<100].total_amount.hist(bins=100, figsize=(14,3))\n",
    "plt.xlabel('total_amount')\n",
    "plt.title('Histogram');"
   ]
  },
  {
   "cell_type": "markdown",
   "metadata": {},
   "source": [
    "In the histogram of the total_amount there are some small spikes between 60 and 80. This could indicate some fixed fare price (e.g. to/from airport)."
   ]
  },
  {
   "cell_type": "code",
   "execution_count": 81,
   "metadata": {},
   "outputs": [
    {
     "data": {
      "text/plain": [
       "ID                             int64\n",
       "vendor_id                     object\n",
       "pickup_loc                   float64\n",
       "drop_loc                     float64\n",
       "driver_tip                   float64\n",
       "mta_tax                       object\n",
       "distance                     float64\n",
       "pickup_time           datetime64[ns]\n",
       "drop_time             datetime64[ns]\n",
       "num_passengers               float64\n",
       "toll_amount                  float64\n",
       "payment_method               float64\n",
       "rate_code                    float64\n",
       "stored_flag                   object\n",
       "extra_charges                float64\n",
       "improvement_charge           float64\n",
       "total_amount                 float64\n",
       "p_hour                         int64\n",
       "dtype: object"
      ]
     },
     "execution_count": 81,
     "metadata": {},
     "output_type": "execute_result"
    }
   ],
   "source": [
    "df.dtypes"
   ]
  },
  {
   "cell_type": "markdown",
   "metadata": {},
   "source": [
    "## Dtype conversion"
   ]
  },
  {
   "cell_type": "code",
   "execution_count": 82,
   "metadata": {},
   "outputs": [],
   "source": [
    "df['vendor_id'] = df['vendor_id'].apply(pd.to_numeric, errors='coerce').astype(np.int64)\n",
    "df['mta_tax'] = df['mta_tax'].apply(pd.to_numeric, errors='coerce')"
   ]
  },
  {
   "cell_type": "code",
   "execution_count": 83,
   "metadata": {},
   "outputs": [],
   "source": [
    "df['stored_flag'].replace('N','0',inplace=True)\n",
    "df['stored_flag'].replace('Y','1',inplace=True)\n",
    "df['stored_flag'] = df['stored_flag'].apply(pd.to_numeric, errors='coerce').astype(np.int64)"
   ]
  },
  {
   "cell_type": "code",
   "execution_count": 84,
   "metadata": {},
   "outputs": [],
   "source": [
    "pf['stored_flag'].replace('N','0',inplace=True)\n",
    "pf['stored_flag'].replace('Y','1',inplace=True)\n",
    "pf['stored_flag'] = pf['stored_flag'].apply(pd.to_numeric, errors='coerce').astype(np.int64)"
   ]
  },
  {
   "cell_type": "markdown",
   "metadata": {},
   "source": [
    "Histograms are drawn to observe whether the given dataset is uniform or not"
   ]
  },
  {
   "cell_type": "code",
   "execution_count": 85,
   "metadata": {
    "scrolled": false
   },
   "outputs": [
    {
     "data": {
      "image/png": "[encoded data removed]",
      "text/plain": [
       "<Figure size 1152x1152 with 16 Axes>"
      ]
     },
     "metadata": {},
     "output_type": "display_data"
    }
   ],
   "source": [
    "df.hist(figsize=(16,16))\n",
    "plt.show()"
   ]
  },
  {
   "cell_type": "code",
   "execution_count": 86,
   "metadata": {},
   "outputs": [
    {
     "data": {
      "text/plain": [
       "0.00     351304\n",
       "1.00      64393\n",
       "2.00      34024\n",
       "1.50      14669\n",
       "3.00      10931\n",
       "          ...  \n",
       "4.27          1\n",
       "15.94         1\n",
       "15.34         1\n",
       "8.98          1\n",
       "6.92          1\n",
       "Name: driver_tip, Length: 2135, dtype: int64"
      ]
     },
     "execution_count": 86,
     "metadata": {},
     "output_type": "execute_result"
    }
   ],
   "source": [
    "df['driver_tip'].value_counts()"
   ]
  },
  {
   "cell_type": "code",
   "execution_count": 87,
   "metadata": {},
   "outputs": [
    {
     "data": {
      "text/plain": [
       "0.3    1048289\n",
       "0.0        284\n",
       "Name: improvement_charge, dtype: int64"
      ]
     },
     "execution_count": 87,
     "metadata": {},
     "output_type": "execute_result"
    }
   ],
   "source": [
    "df['improvement_charge'].value_counts()"
   ]
  },
  {
   "cell_type": "code",
   "execution_count": 88,
   "metadata": {},
   "outputs": [
    {
     "data": {
      "text/plain": [
       "0.5    1043304\n",
       "0.0       5269\n",
       "Name: mta_tax, dtype: int64"
      ]
     },
     "execution_count": 88,
     "metadata": {},
     "output_type": "execute_result"
    }
   ],
   "source": [
    "df['mta_tax'].value_counts()"
   ]
  },
  {
   "cell_type": "code",
   "execution_count": 89,
   "metadata": {},
   "outputs": [
    {
     "data": {
      "text/plain": [
       "1.0     1019630\n",
       "2.0       22328\n",
       "5.0        3431\n",
       "3.0        2522\n",
       "4.0         628\n",
       "99.0         25\n",
       "6.0           9\n",
       "Name: rate_code, dtype: int64"
      ]
     },
     "execution_count": 89,
     "metadata": {},
     "output_type": "execute_result"
    }
   ],
   "source": [
    "df['rate_code'].value_counts()"
   ]
  },
  {
   "cell_type": "code",
   "execution_count": 90,
   "metadata": {},
   "outputs": [
    {
     "data": {
      "text/plain": [
       "0    1041404\n",
       "1       7169\n",
       "Name: stored_flag, dtype: int64"
      ]
     },
     "execution_count": 90,
     "metadata": {},
     "output_type": "execute_result"
    }
   ],
   "source": [
    "df['stored_flag'].value_counts()"
   ]
  },
  {
   "cell_type": "code",
   "execution_count": 91,
   "metadata": {},
   "outputs": [
    {
     "data": {
      "text/plain": [
       "0.00     991571\n",
       "5.76      51323\n",
       "10.50      1106\n",
       "5.54        669\n",
       "12.50       606\n",
       "          ...  \n",
       "28.26         1\n",
       "12.59         1\n",
       "26.00         1\n",
       "12.66         1\n",
       "17.78         1\n",
       "Name: toll_amount, Length: 417, dtype: int64"
      ]
     },
     "execution_count": 91,
     "metadata": {},
     "output_type": "execute_result"
    }
   ],
   "source": [
    "df['toll_amount'].value_counts()"
   ]
  },
  {
   "cell_type": "code",
   "execution_count": 92,
   "metadata": {},
   "outputs": [
    {
     "data": {
      "text/plain": [
       "2    567766\n",
       "1    480807\n",
       "Name: vendor_id, dtype: int64"
      ]
     },
     "execution_count": 92,
     "metadata": {},
     "output_type": "execute_result"
    }
   ],
   "source": [
    "df['vendor_id'].value_counts()"
   ]
  },
  {
   "cell_type": "markdown",
   "metadata": {},
   "source": [
    "# Heat Map"
   ]
  },
  {
   "cell_type": "markdown",
   "metadata": {},
   "source": [
    "The correlation coefficient has values between -1 to 1\n",
    "— A value closer to 0 implies weaker correlation (exact 0 implying no correlation)\n",
    "— A value closer to 1 implies stronger positive correlation\n",
    "— A value closer to -1 implies stronger negative correlation"
   ]
  },
  {
   "cell_type": "code",
   "execution_count": 93,
   "metadata": {},
   "outputs": [
    {
     "data": {
      "image/png": "[encoded data removed]",
      "text/plain": [
       "<Figure size 1440x1440 with 2 Axes>"
      ]
     },
     "metadata": {},
     "output_type": "display_data"
    }
   ],
   "source": [
    "plt.figure(figsize=(20,20))\n",
    "cor = df.corr()\n",
    "sns.heatmap(cor, annot=True, cmap=plt.cm.Blues)\n",
    "plt.show()"
   ]
  },
  {
   "cell_type": "markdown",
   "metadata": {},
   "source": [
    "# Data cleaning"
   ]
  },
  {
   "cell_type": "code",
   "execution_count": 94,
   "metadata": {},
   "outputs": [],
   "source": [
    "cols = ['ID','improvement_charge']\n",
    "df = df.drop(columns = cols)\n",
    "pf = pf.drop(columns = cols)"
   ]
  },
  {
   "cell_type": "code",
   "execution_count": 95,
   "metadata": {},
   "outputs": [
    {
     "data": {
      "text/plain": [
       "vendor_id         0\n",
       "pickup_loc        0\n",
       "drop_loc          0\n",
       "driver_tip        0\n",
       "mta_tax           0\n",
       "distance          0\n",
       "pickup_time       0\n",
       "drop_time         0\n",
       "num_passengers    0\n",
       "toll_amount       0\n",
       "payment_method    0\n",
       "rate_code         0\n",
       "stored_flag       0\n",
       "extra_charges     0\n",
       "total_amount      0\n",
       "p_hour            0\n",
       "dtype: int64"
      ]
     },
     "execution_count": 95,
     "metadata": {},
     "output_type": "execute_result"
    }
   ],
   "source": [
    "df.isna().sum()"
   ]
  },
  {
   "cell_type": "code",
   "execution_count": 96,
   "metadata": {},
   "outputs": [
    {
     "data": {
      "text/plain": [
       "8     67961\n",
       "18    66371\n",
       "19    61474\n",
       "14    61436\n",
       "9     61028\n",
       "12    57799\n",
       "7     57676\n",
       "20    57292\n",
       "13    56823\n",
       "21    56039\n",
       "11    55654\n",
       "10    55513\n",
       "15    54668\n",
       "22    50776\n",
       "17    49611\n",
       "16    41882\n",
       "23    38727\n",
       "6     27106\n",
       "0     25073\n",
       "1     14521\n",
       "5      9676\n",
       "2      9397\n",
       "3      6090\n",
       "4      5980\n",
       "Name: p_hour, dtype: int64"
      ]
     },
     "execution_count": 96,
     "metadata": {},
     "output_type": "execute_result"
    }
   ],
   "source": [
    "df['p_hour'].value_counts()"
   ]
  },
  {
   "cell_type": "code",
   "execution_count": 97,
   "metadata": {},
   "outputs": [
    {
     "data": {
      "image/png": "[encoded data removed]",
      "text/plain": [
       "<Figure size 1008x432 with 1 Axes>"
      ]
     },
     "metadata": {},
     "output_type": "display_data"
    }
   ],
   "source": [
    "# display pivot table\n",
    "df.pivot_table('total_amount', index='p_hour').plot(figsize=(14,6))\n",
    "plt.ylabel('total_amount');"
   ]
  },
  {
   "cell_type": "markdown",
   "metadata": {},
   "source": [
    "# Calculating duration of trip in seconds"
   ]
  },
  {
   "cell_type": "code",
   "execution_count": 98,
   "metadata": {},
   "outputs": [],
   "source": [
    "df['diff']=df['drop_time']-df['pickup_time']\n",
    "pf['diff']=pf['drop_time']-pf['pickup_time']\n",
    "df['duration']=(df['diff'] / np.timedelta64(1, 's'))\n",
    "pf['duration']=(pf['diff'] / np.timedelta64(1, 's'))"
   ]
  },
  {
   "cell_type": "code",
   "execution_count": 99,
   "metadata": {},
   "outputs": [],
   "source": [
    "colms = ['pickup_time','drop_time','diff']\n",
    "pf = pf.drop(columns = colms)\n",
    "df = df.drop(columns = colms)"
   ]
  },
  {
   "cell_type": "code",
   "execution_count": 100,
   "metadata": {},
   "outputs": [
    {
     "data": {
      "text/plain": [
       "count    1.048573e+06\n",
       "mean     1.622721e+01\n",
       "std      1.508592e+01\n",
       "min      0.000000e+00\n",
       "25%      8.500000e+00\n",
       "50%      1.176000e+01\n",
       "75%      1.775000e+01\n",
       "max      2.759370e+03\n",
       "Name: total_amount, dtype: float64"
      ]
     },
     "execution_count": 100,
     "metadata": {},
     "output_type": "execute_result"
    }
   ],
   "source": [
    "df['total_amount'].describe()"
   ]
  },
  {
   "cell_type": "code",
   "execution_count": 101,
   "metadata": {},
   "outputs": [
    {
     "data": {
      "text/html": [
       "<div>\n",
       "<style scoped>\n",
       "    .dataframe tbody tr th:only-of-type {\n",
       "        vertical-align: middle;\n",
       "    }\n",
       "\n",
       "    .dataframe tbody tr th {\n",
       "        vertical-align: top;\n",
       "    }\n",
       "\n",
       "    .dataframe thead th {\n",
       "        text-align: right;\n",
       "    }\n",
       "</style>\n",
       "<table border=\"1\" class=\"dataframe\">\n",
       "  <thead>\n",
       "    <tr style=\"text-align: right;\">\n",
       "      <th></th>\n",
       "      <th>vendor_id</th>\n",
       "      <th>pickup_loc</th>\n",
       "      <th>drop_loc</th>\n",
       "      <th>driver_tip</th>\n",
       "      <th>mta_tax</th>\n",
       "      <th>distance</th>\n",
       "      <th>num_passengers</th>\n",
       "      <th>toll_amount</th>\n",
       "      <th>payment_method</th>\n",
       "      <th>rate_code</th>\n",
       "      <th>stored_flag</th>\n",
       "      <th>extra_charges</th>\n",
       "      <th>total_amount</th>\n",
       "      <th>p_hour</th>\n",
       "      <th>duration</th>\n",
       "    </tr>\n",
       "  </thead>\n",
       "  <tbody>\n",
       "    <tr>\n",
       "      <td>843150</td>\n",
       "      <td>1</td>\n",
       "      <td>145.0</td>\n",
       "      <td>145.0</td>\n",
       "      <td>0.0</td>\n",
       "      <td>0.0</td>\n",
       "      <td>0.0</td>\n",
       "      <td>1.0</td>\n",
       "      <td>0.00</td>\n",
       "      <td>3.0</td>\n",
       "      <td>1.0</td>\n",
       "      <td>0</td>\n",
       "      <td>0.0</td>\n",
       "      <td>0.00</td>\n",
       "      <td>17</td>\n",
       "      <td>4.0</td>\n",
       "    </tr>\n",
       "    <tr>\n",
       "      <td>673718</td>\n",
       "      <td>2</td>\n",
       "      <td>193.0</td>\n",
       "      <td>193.0</td>\n",
       "      <td>0.0</td>\n",
       "      <td>0.0</td>\n",
       "      <td>0.0</td>\n",
       "      <td>1.0</td>\n",
       "      <td>0.00</td>\n",
       "      <td>1.0</td>\n",
       "      <td>1.0</td>\n",
       "      <td>0</td>\n",
       "      <td>0.0</td>\n",
       "      <td>0.00</td>\n",
       "      <td>19</td>\n",
       "      <td>217.0</td>\n",
       "    </tr>\n",
       "    <tr>\n",
       "      <td>914642</td>\n",
       "      <td>1</td>\n",
       "      <td>137.0</td>\n",
       "      <td>264.0</td>\n",
       "      <td>0.0</td>\n",
       "      <td>0.0</td>\n",
       "      <td>0.0</td>\n",
       "      <td>1.0</td>\n",
       "      <td>0.00</td>\n",
       "      <td>2.0</td>\n",
       "      <td>5.0</td>\n",
       "      <td>0</td>\n",
       "      <td>0.0</td>\n",
       "      <td>0.00</td>\n",
       "      <td>11</td>\n",
       "      <td>0.0</td>\n",
       "    </tr>\n",
       "    <tr>\n",
       "      <td>409578</td>\n",
       "      <td>1</td>\n",
       "      <td>161.0</td>\n",
       "      <td>264.0</td>\n",
       "      <td>0.0</td>\n",
       "      <td>0.0</td>\n",
       "      <td>0.0</td>\n",
       "      <td>1.0</td>\n",
       "      <td>0.00</td>\n",
       "      <td>2.0</td>\n",
       "      <td>5.0</td>\n",
       "      <td>0</td>\n",
       "      <td>0.0</td>\n",
       "      <td>0.00</td>\n",
       "      <td>19</td>\n",
       "      <td>0.0</td>\n",
       "    </tr>\n",
       "    <tr>\n",
       "      <td>472004</td>\n",
       "      <td>2</td>\n",
       "      <td>264.0</td>\n",
       "      <td>193.0</td>\n",
       "      <td>0.0</td>\n",
       "      <td>0.0</td>\n",
       "      <td>0.0</td>\n",
       "      <td>1.0</td>\n",
       "      <td>0.00</td>\n",
       "      <td>1.0</td>\n",
       "      <td>1.0</td>\n",
       "      <td>0</td>\n",
       "      <td>0.0</td>\n",
       "      <td>0.00</td>\n",
       "      <td>19</td>\n",
       "      <td>69.0</td>\n",
       "    </tr>\n",
       "    <tr>\n",
       "      <td>...</td>\n",
       "      <td>...</td>\n",
       "      <td>...</td>\n",
       "      <td>...</td>\n",
       "      <td>...</td>\n",
       "      <td>...</td>\n",
       "      <td>...</td>\n",
       "      <td>...</td>\n",
       "      <td>...</td>\n",
       "      <td>...</td>\n",
       "      <td>...</td>\n",
       "      <td>...</td>\n",
       "      <td>...</td>\n",
       "      <td>...</td>\n",
       "      <td>...</td>\n",
       "      <td>...</td>\n",
       "    </tr>\n",
       "    <tr>\n",
       "      <td>30072</td>\n",
       "      <td>2</td>\n",
       "      <td>264.0</td>\n",
       "      <td>264.0</td>\n",
       "      <td>0.0</td>\n",
       "      <td>0.0</td>\n",
       "      <td>0.0</td>\n",
       "      <td>1.0</td>\n",
       "      <td>0.00</td>\n",
       "      <td>1.0</td>\n",
       "      <td>5.0</td>\n",
       "      <td>0</td>\n",
       "      <td>0.0</td>\n",
       "      <td>825.00</td>\n",
       "      <td>11</td>\n",
       "      <td>0.0</td>\n",
       "    </tr>\n",
       "    <tr>\n",
       "      <td>403021</td>\n",
       "      <td>1</td>\n",
       "      <td>138.0</td>\n",
       "      <td>48.0</td>\n",
       "      <td>0.0</td>\n",
       "      <td>0.5</td>\n",
       "      <td>10.3</td>\n",
       "      <td>1.0</td>\n",
       "      <td>905.76</td>\n",
       "      <td>3.0</td>\n",
       "      <td>1.0</td>\n",
       "      <td>0</td>\n",
       "      <td>0.5</td>\n",
       "      <td>939.56</td>\n",
       "      <td>22</td>\n",
       "      <td>1773.0</td>\n",
       "    </tr>\n",
       "    <tr>\n",
       "      <td>549733</td>\n",
       "      <td>1</td>\n",
       "      <td>145.0</td>\n",
       "      <td>145.0</td>\n",
       "      <td>0.0</td>\n",
       "      <td>0.0</td>\n",
       "      <td>0.0</td>\n",
       "      <td>1.0</td>\n",
       "      <td>0.00</td>\n",
       "      <td>2.0</td>\n",
       "      <td>4.0</td>\n",
       "      <td>0</td>\n",
       "      <td>0.0</td>\n",
       "      <td>2759.37</td>\n",
       "      <td>11</td>\n",
       "      <td>22.0</td>\n",
       "    </tr>\n",
       "    <tr>\n",
       "      <td>15913</td>\n",
       "      <td>1</td>\n",
       "      <td>211.0</td>\n",
       "      <td>264.0</td>\n",
       "      <td>0.0</td>\n",
       "      <td>0.0</td>\n",
       "      <td>0.0</td>\n",
       "      <td>1.0</td>\n",
       "      <td>0.00</td>\n",
       "      <td>2.0</td>\n",
       "      <td>4.0</td>\n",
       "      <td>0</td>\n",
       "      <td>0.0</td>\n",
       "      <td>2759.37</td>\n",
       "      <td>19</td>\n",
       "      <td>0.0</td>\n",
       "    </tr>\n",
       "    <tr>\n",
       "      <td>1015175</td>\n",
       "      <td>1</td>\n",
       "      <td>145.0</td>\n",
       "      <td>145.0</td>\n",
       "      <td>0.0</td>\n",
       "      <td>0.0</td>\n",
       "      <td>0.0</td>\n",
       "      <td>1.0</td>\n",
       "      <td>0.00</td>\n",
       "      <td>2.0</td>\n",
       "      <td>4.0</td>\n",
       "      <td>0</td>\n",
       "      <td>0.0</td>\n",
       "      <td>2759.37</td>\n",
       "      <td>21</td>\n",
       "      <td>4.0</td>\n",
       "    </tr>\n",
       "  </tbody>\n",
       "</table>\n",
       "<p>1048573 rows × 15 columns</p>\n",
       "</div>"
      ],
      "text/plain": [
       "         vendor_id  pickup_loc  drop_loc  driver_tip  mta_tax  distance  \\\n",
       "843150           1       145.0     145.0         0.0      0.0       0.0   \n",
       "673718           2       193.0     193.0         0.0      0.0       0.0   \n",
       "914642           1       137.0     264.0         0.0      0.0       0.0   \n",
       "409578           1       161.0     264.0         0.0      0.0       0.0   \n",
       "472004           2       264.0     193.0         0.0      0.0       0.0   \n",
       "...            ...         ...       ...         ...      ...       ...   \n",
       "30072            2       264.0     264.0         0.0      0.0       0.0   \n",
       "403021           1       138.0      48.0         0.0      0.5      10.3   \n",
       "549733           1       145.0     145.0         0.0      0.0       0.0   \n",
       "15913            1       211.0     264.0         0.0      0.0       0.0   \n",
       "1015175          1       145.0     145.0         0.0      0.0       0.0   \n",
       "\n",
       "         num_passengers  toll_amount  payment_method  rate_code  stored_flag  \\\n",
       "843150              1.0         0.00             3.0        1.0            0   \n",
       "673718              1.0         0.00             1.0        1.0            0   \n",
       "914642              1.0         0.00             2.0        5.0            0   \n",
       "409578              1.0         0.00             2.0        5.0            0   \n",
       "472004              1.0         0.00             1.0        1.0            0   \n",
       "...                 ...          ...             ...        ...          ...   \n",
       "30072               1.0         0.00             1.0        5.0            0   \n",
       "403021              1.0       905.76             3.0        1.0            0   \n",
       "549733              1.0         0.00             2.0        4.0            0   \n",
       "15913               1.0         0.00             2.0        4.0            0   \n",
       "1015175             1.0         0.00             2.0        4.0            0   \n",
       "\n",
       "         extra_charges  total_amount  p_hour  duration  \n",
       "843150             0.0          0.00      17       4.0  \n",
       "673718             0.0          0.00      19     217.0  \n",
       "914642             0.0          0.00      11       0.0  \n",
       "409578             0.0          0.00      19       0.0  \n",
       "472004             0.0          0.00      19      69.0  \n",
       "...                ...           ...     ...       ...  \n",
       "30072              0.0        825.00      11       0.0  \n",
       "403021             0.5        939.56      22    1773.0  \n",
       "549733             0.0       2759.37      11      22.0  \n",
       "15913              0.0       2759.37      19       0.0  \n",
       "1015175            0.0       2759.37      21       4.0  \n",
       "\n",
       "[1048573 rows x 15 columns]"
      ]
     },
     "execution_count": 101,
     "metadata": {},
     "output_type": "execute_result"
    }
   ],
   "source": [
    "df.sort_values(by=['total_amount'])"
   ]
  },
  {
   "cell_type": "markdown",
   "metadata": {},
   "source": [
    "Mean is around 160  so we consider total_amount<200"
   ]
  },
  {
   "cell_type": "code",
   "execution_count": 102,
   "metadata": {},
   "outputs": [],
   "source": [
    "df = df[df.total_amount<200]"
   ]
  },
  {
   "cell_type": "markdown",
   "metadata": {},
   "source": [
    "###### payment method free ride is dropped"
   ]
  },
  {
   "cell_type": "code",
   "execution_count": 103,
   "metadata": {},
   "outputs": [],
   "source": [
    "#df = df[df['payment_method']!=3]\n",
    "df = df[df['rate_code']!=99]\n",
    "df.drop(df[(df['distance']==0) & df['duration']>60].index, inplace = True)"
   ]
  },
  {
   "cell_type": "code",
   "execution_count": 104,
   "metadata": {},
   "outputs": [],
   "source": [
    "df.drop(df[(df['pickup_loc']==df['drop_loc']) & df['duration']>0 & (df['distance']==0) ].index, inplace = True)"
   ]
  },
  {
   "cell_type": "markdown",
   "metadata": {},
   "source": [
    "## Splitting Data"
   ]
  },
  {
   "cell_type": "code",
   "execution_count": 105,
   "metadata": {},
   "outputs": [],
   "source": [
    "from sklearn.model_selection import train_test_split"
   ]
  },
  {
   "cell_type": "code",
   "execution_count": 106,
   "metadata": {},
   "outputs": [],
   "source": [
    "X = df.drop('total_amount',axis=1)"
   ]
  },
  {
   "cell_type": "code",
   "execution_count": 107,
   "metadata": {},
   "outputs": [
    {
     "data": {
      "text/html": [
       "<div>\n",
       "<style scoped>\n",
       "    .dataframe tbody tr th:only-of-type {\n",
       "        vertical-align: middle;\n",
       "    }\n",
       "\n",
       "    .dataframe tbody tr th {\n",
       "        vertical-align: top;\n",
       "    }\n",
       "\n",
       "    .dataframe thead th {\n",
       "        text-align: right;\n",
       "    }\n",
       "</style>\n",
       "<table border=\"1\" class=\"dataframe\">\n",
       "  <thead>\n",
       "    <tr style=\"text-align: right;\">\n",
       "      <th></th>\n",
       "      <th>vendor_id</th>\n",
       "      <th>pickup_loc</th>\n",
       "      <th>drop_loc</th>\n",
       "      <th>driver_tip</th>\n",
       "      <th>mta_tax</th>\n",
       "      <th>distance</th>\n",
       "      <th>num_passengers</th>\n",
       "      <th>toll_amount</th>\n",
       "      <th>payment_method</th>\n",
       "      <th>rate_code</th>\n",
       "      <th>stored_flag</th>\n",
       "      <th>extra_charges</th>\n",
       "      <th>p_hour</th>\n",
       "      <th>duration</th>\n",
       "    </tr>\n",
       "  </thead>\n",
       "  <tbody>\n",
       "    <tr>\n",
       "      <td>0</td>\n",
       "      <td>1</td>\n",
       "      <td>170.0</td>\n",
       "      <td>233.0</td>\n",
       "      <td>1.83</td>\n",
       "      <td>0.5</td>\n",
       "      <td>0.70</td>\n",
       "      <td>1.0</td>\n",
       "      <td>0.0</td>\n",
       "      <td>1.0</td>\n",
       "      <td>1.0</td>\n",
       "      <td>0</td>\n",
       "      <td>1.0</td>\n",
       "      <td>17</td>\n",
       "      <td>321.0</td>\n",
       "    </tr>\n",
       "    <tr>\n",
       "      <td>1</td>\n",
       "      <td>2</td>\n",
       "      <td>151.0</td>\n",
       "      <td>243.0</td>\n",
       "      <td>3.56</td>\n",
       "      <td>0.5</td>\n",
       "      <td>4.64</td>\n",
       "      <td>1.0</td>\n",
       "      <td>0.0</td>\n",
       "      <td>1.0</td>\n",
       "      <td>1.0</td>\n",
       "      <td>0</td>\n",
       "      <td>1.0</td>\n",
       "      <td>19</td>\n",
       "      <td>990.0</td>\n",
       "    </tr>\n",
       "    <tr>\n",
       "      <td>2</td>\n",
       "      <td>2</td>\n",
       "      <td>68.0</td>\n",
       "      <td>90.0</td>\n",
       "      <td>1.50</td>\n",
       "      <td>0.5</td>\n",
       "      <td>1.29</td>\n",
       "      <td>2.0</td>\n",
       "      <td>0.0</td>\n",
       "      <td>1.0</td>\n",
       "      <td>1.0</td>\n",
       "      <td>0</td>\n",
       "      <td>0.0</td>\n",
       "      <td>15</td>\n",
       "      <td>377.0</td>\n",
       "    </tr>\n",
       "    <tr>\n",
       "      <td>3</td>\n",
       "      <td>2</td>\n",
       "      <td>142.0</td>\n",
       "      <td>234.0</td>\n",
       "      <td>1.50</td>\n",
       "      <td>0.5</td>\n",
       "      <td>2.74</td>\n",
       "      <td>1.0</td>\n",
       "      <td>0.0</td>\n",
       "      <td>1.0</td>\n",
       "      <td>1.0</td>\n",
       "      <td>0</td>\n",
       "      <td>0.0</td>\n",
       "      <td>8</td>\n",
       "      <td>968.0</td>\n",
       "    </tr>\n",
       "    <tr>\n",
       "      <td>5</td>\n",
       "      <td>1</td>\n",
       "      <td>230.0</td>\n",
       "      <td>48.0</td>\n",
       "      <td>1.05</td>\n",
       "      <td>0.5</td>\n",
       "      <td>0.40</td>\n",
       "      <td>1.0</td>\n",
       "      <td>0.0</td>\n",
       "      <td>1.0</td>\n",
       "      <td>1.0</td>\n",
       "      <td>0</td>\n",
       "      <td>0.0</td>\n",
       "      <td>9</td>\n",
       "      <td>116.0</td>\n",
       "    </tr>\n",
       "  </tbody>\n",
       "</table>\n",
       "</div>"
      ],
      "text/plain": [
       "   vendor_id  pickup_loc  drop_loc  driver_tip  mta_tax  distance  \\\n",
       "0          1       170.0     233.0        1.83      0.5      0.70   \n",
       "1          2       151.0     243.0        3.56      0.5      4.64   \n",
       "2          2        68.0      90.0        1.50      0.5      1.29   \n",
       "3          2       142.0     234.0        1.50      0.5      2.74   \n",
       "5          1       230.0      48.0        1.05      0.5      0.40   \n",
       "\n",
       "   num_passengers  toll_amount  payment_method  rate_code  stored_flag  \\\n",
       "0             1.0          0.0             1.0        1.0            0   \n",
       "1             1.0          0.0             1.0        1.0            0   \n",
       "2             2.0          0.0             1.0        1.0            0   \n",
       "3             1.0          0.0             1.0        1.0            0   \n",
       "5             1.0          0.0             1.0        1.0            0   \n",
       "\n",
       "   extra_charges  p_hour  duration  \n",
       "0            1.0      17     321.0  \n",
       "1            1.0      19     990.0  \n",
       "2            0.0      15     377.0  \n",
       "3            0.0       8     968.0  \n",
       "5            0.0       9     116.0  "
      ]
     },
     "execution_count": 107,
     "metadata": {},
     "output_type": "execute_result"
    }
   ],
   "source": [
    "X.head()"
   ]
  },
  {
   "cell_type": "code",
   "execution_count": 108,
   "metadata": {},
   "outputs": [],
   "source": [
    "y = df.total_amount"
   ]
  },
  {
   "cell_type": "code",
   "execution_count": 109,
   "metadata": {},
   "outputs": [
    {
     "data": {
      "text/plain": [
       "0     9.13\n",
       "1    21.36\n",
       "2     8.80\n",
       "3    14.80\n",
       "5     5.35\n",
       "Name: total_amount, dtype: float64"
      ]
     },
     "execution_count": 109,
     "metadata": {},
     "output_type": "execute_result"
    }
   ],
   "source": [
    "y.head()"
   ]
  },
  {
   "cell_type": "code",
   "execution_count": 123,
   "metadata": {},
   "outputs": [],
   "source": [
    "X_train,X_test,y_train,y_test = train_test_split(X,y,test_size=0.33,random_state=0)"
   ]
  },
  {
   "cell_type": "markdown",
   "metadata": {},
   "source": [
    "# 1.Using Linear Regression and calculating MSE"
   ]
  },
  {
   "cell_type": "code",
   "execution_count": 111,
   "metadata": {},
   "outputs": [],
   "source": [
    "#sklearn for importing our model\n",
    "from sklearn.linear_model import LinearRegression"
   ]
  },
  {
   "cell_type": "code",
   "execution_count": 112,
   "metadata": {},
   "outputs": [],
   "source": [
    "model1=LinearRegression().fit(X_train,y_train)"
   ]
  },
  {
   "cell_type": "code",
   "execution_count": 113,
   "metadata": {},
   "outputs": [],
   "source": [
    "pred1 = model1.predict(X_test)"
   ]
  },
  {
   "cell_type": "code",
   "execution_count": 114,
   "metadata": {},
   "outputs": [
    {
     "name": "stdout",
     "output_type": "stream",
     "text": [
      "[ 8.92448303 28.409201   10.97325817 ... 15.60624872 22.26416207\n",
      " 22.59268402]\n"
     ]
    }
   ],
   "source": [
    " print(pred1)"
   ]
  },
  {
   "cell_type": "code",
   "execution_count": 115,
   "metadata": {},
   "outputs": [
    {
     "data": {
      "text/plain": [
       "10.236193302011895"
      ]
     },
     "execution_count": 115,
     "metadata": {},
     "output_type": "execute_result"
    }
   ],
   "source": [
    " mean_squared_error(y_test, pred1)"
   ]
  },
  {
   "cell_type": "markdown",
   "metadata": {},
   "source": [
    "# Using Random Forest Regressor and calculating MSE"
   ]
  },
  {
   "cell_type": "code",
   "execution_count": 116,
   "metadata": {},
   "outputs": [],
   "source": [
    "from sklearn.ensemble import RandomForestRegressor "
   ]
  },
  {
   "cell_type": "code",
   "execution_count": 124,
   "metadata": {},
   "outputs": [],
   "source": [
    "model2=RandomForestRegressor(max_depth=10,random_state=0)"
   ]
  },
  {
   "cell_type": "code",
   "execution_count": 125,
   "metadata": {},
   "outputs": [
    {
     "data": {
      "text/plain": [
       "RandomForestRegressor(bootstrap=True, criterion='mse', max_depth=10,\n",
       "                      max_features='auto', max_leaf_nodes=None,\n",
       "                      min_impurity_decrease=0.0, min_impurity_split=None,\n",
       "                      min_samples_leaf=1, min_samples_split=2,\n",
       "                      min_weight_fraction_leaf=0.0, n_estimators=10,\n",
       "                      n_jobs=None, oob_score=False, random_state=0, verbose=0,\n",
       "                      warm_start=False)"
      ]
     },
     "execution_count": 125,
     "metadata": {},
     "output_type": "execute_result"
    }
   ],
   "source": [
    "model2.fit(X_train,y_train)"
   ]
  },
  {
   "cell_type": "code",
   "execution_count": 128,
   "metadata": {},
   "outputs": [],
   "source": [
    "pred2 = model2.predict(pf)"
   ]
  },
  {
   "cell_type": "code",
   "execution_count": 127,
   "metadata": {},
   "outputs": [
    {
     "data": {
      "text/plain": [
       "2.4684324307698065"
      ]
     },
     "execution_count": 127,
     "metadata": {},
     "output_type": "execute_result"
    }
   ],
   "source": [
    "mean_squared_error(y_test, pred2)"
   ]
  },
  {
   "cell_type": "code",
   "execution_count": null,
   "metadata": {},
   "outputs": [],
   "source": [
    "print(pred2)"
   ]
  },
  {
   "cell_type": "markdown",
   "metadata": {},
   "source": [
    "# Creating Submission File"
   ]
  },
  {
   "cell_type": "code",
   "execution_count": null,
   "metadata": {},
   "outputs": [],
   "source": [
    "# pred2.shape"
   ]
  },
  {
   "cell_type": "code",
   "execution_count": 129,
   "metadata": {},
   "outputs": [],
   "source": [
    "yy=[]\n",
    "for i in range(154235):\n",
    "    yy.append(i)"
   ]
  },
  {
   "cell_type": "code",
   "execution_count": 130,
   "metadata": {},
   "outputs": [],
   "source": [
    "predi=pd.DataFrame(pred2)\n",
    "predi.rename(columns={0:'total_amount'},inplace=True)\n",
    "predi['ID']=yy\n",
    "predi = predi[['ID','total_amount']]"
   ]
  },
  {
   "cell_type": "code",
   "execution_count": 131,
   "metadata": {},
   "outputs": [],
   "source": [
    "predi.to_csv('final4.csv',index=False)"
   ]
  }
 ],
 "metadata": {
  "kernelspec": {
   "display_name": "Python 3",
   "language": "python",
   "name": "python3"
  },
  "language_info": {
   "codemirror_mode": {
    "name": "ipython",
    "version": 3
   },
   "file_extension": ".py",
   "mimetype": "text/x-python",
   "name": "python",
   "nbconvert_exporter": "python",
   "pygments_lexer": "ipython3",
   "version": "3.6.4"
  }
 },
 "nbformat": 4,
 "nbformat_minor": 2
}
